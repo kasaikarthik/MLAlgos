{
  "nbformat": 4,
  "nbformat_minor": 0,
  "metadata": {
    "colab": {
      "name": "Knearestneighbour.ipynb",
      "provenance": [],
      "toc_visible": true
    },
    "kernelspec": {
      "name": "python3",
      "display_name": "Python 3"
    }
  },
  "cells": [
    {
      "cell_type": "code",
      "metadata": {
        "id": "-6R27Ch2Gzy3",
        "colab_type": "code",
        "colab": {}
      },
      "source": [
        "import numpy as np\n",
        "import matplotlib.pyplot as plt\n",
        "from matplotlib import style\n",
        "import warnings\n",
        "from math import sqrt\n",
        "from collections import Counter\n",
        "style.use('fivethirtyeight')\n"
      ],
      "execution_count": 0,
      "outputs": []
    },
    {
      "cell_type": "code",
      "metadata": {
        "id": "1qHEDemSG76b",
        "colab_type": "code",
        "colab": {}
      },
      "source": [
        "dataset = {'k':[[1,2],[2,3],[3,1]], 'r':[[6,5],[7,7],[8,6]]}\n",
        "new_features = [5,7]"
      ],
      "execution_count": 0,
      "outputs": []
    },
    {
      "cell_type": "code",
      "metadata": {
        "id": "wEILmCU5G95t",
        "colab_type": "code",
        "outputId": "90c306a6-8a18-4219-d655-c62a06972ae7",
        "colab": {
          "base_uri": "https://localhost:8080/",
          "height": 282
        }
      },
      "source": [
        "for i in dataset:\n",
        " for ii in dataset[i]:\n",
        "    plt.scatter(ii[0], ii[1], label= \"stars\", color= \"green\", marker= \"*\", s=30);\n",
        "plt.scatter(new_features[0],new_features[1],label=\"stars\",color=\"red\",marker=\"*\",s=30)\n",
        "plt.show()    "
      ],
      "execution_count": 0,
      "outputs": [
        {
          "output_type": "display_data",
          "data": {
            "image/png": "[encoded data removed]",
            "text/plain": [
              "<Figure size 432x288 with 1 Axes>"
            ]
          },
          "metadata": {
            "tags": []
          }
        }
      ]
    },
    {
      "cell_type": "code",
      "metadata": {
        "id": "Cdmi31qCV4MA",
        "colab_type": "code",
        "colab": {}
      },
      "source": [
        "def k_nearest_neighbors(data, predict, k=3):\n",
        "    if len(data) >= k:\n",
        "        warnings.warn('K is set to a value less than total voting groups!')\n",
        "        \n",
        "    distances = []\n",
        "    for group in data:\n",
        "        for features in data[group]:\n",
        "            euclidean_distance = np.sqrt(np.sum((np.array(features)-np.array(predict))**2))\n",
        "            distances.append([euclidean_distance,group])\n",
        "    votes = [i[1] for i in sorted(distances)[:k]]\n",
        "    vote_result = Counter(votes).most_common(1)[0][0]\n",
        "          \n",
        "    return vote_result"
      ],
      "execution_count": 0,
      "outputs": []
    },
    {
      "cell_type": "code",
      "metadata": {
        "id": "yJKajuqZWiZL",
        "colab_type": "code",
        "colab": {}
      },
      "source": [
        "result= k_nearest_neighbors(dataset, new_features)"
      ],
      "execution_count": 0,
      "outputs": []
    },
    {
      "cell_type": "code",
      "metadata": {
        "id": "NmtrjLBLYITi",
        "colab_type": "code",
        "outputId": "39bd28ad-046b-4906-8de2-b5b477d3a29e",
        "colab": {
          "base_uri": "https://localhost:8080/",
          "height": 34
        }
      },
      "source": [
        "print(result)"
      ],
      "execution_count": 0,
      "outputs": [
        {
          "output_type": "stream",
          "text": [
            "r\n"
          ],
          "name": "stdout"
        }
      ]
    },
    {
      "cell_type": "code",
      "metadata": {
        "id": "othJzJILYODV",
        "colab_type": "code",
        "outputId": "bffa2d9b-10fd-44b6-ddf7-4f3acb7ed3a9",
        "colab": {
          "base_uri": "https://localhost:8080/",
          "height": 162
        }
      },
      "source": [
        "print(votes)"
      ],
      "execution_count": 0,
      "outputs": [
        {
          "output_type": "error",
          "ename": "NameError",
          "evalue": "ignored",
          "traceback": [
            "\u001b[0;31m---------------------------------------------------------------------------\u001b[0m",
            "\u001b[0;31mNameError\u001b[0m                                 Traceback (most recent call last)",
            "\u001b[0;32m<ipython-input-70-deb4847961c6>\u001b[0m in \u001b[0;36m<module>\u001b[0;34m()\u001b[0m\n\u001b[0;32m----> 1\u001b[0;31m \u001b[0mprint\u001b[0m\u001b[0;34m(\u001b[0m\u001b[0mvotes\u001b[0m\u001b[0;34m)\u001b[0m\u001b[0;34m\u001b[0m\u001b[0;34m\u001b[0m\u001b[0m\n\u001b[0m",
            "\u001b[0;31mNameError\u001b[0m: name 'votes' is not defined"
          ]
        }
      ]
    },
    {
      "cell_type": "code",
      "metadata": {
        "id": "oB0E_gSDYdG-",
        "colab_type": "code",
        "colab": {}
      },
      "source": [
        "m=result[:3]"
      ],
      "execution_count": 0,
      "outputs": []
    },
    {
      "cell_type": "code",
      "metadata": {
        "id": "LjnPqY7iaHy5",
        "colab_type": "code",
        "colab": {}
      },
      "source": [
        "m\n",
        "t=[]"
      ],
      "execution_count": 0,
      "outputs": []
    },
    {
      "cell_type": "code",
      "metadata": {
        "id": "Hm6AD1Vhb0JG",
        "colab_type": "code",
        "outputId": "96c82ad9-b33a-4352-fa1d-ee62ed6cc2ed",
        "colab": {
          "base_uri": "https://localhost:8080/",
          "height": 67
        }
      },
      "source": [
        "for i in m:\n",
        "  print(i)\n",
        "  for j in i:\n",
        "   \n",
        "    t.append(j)"
      ],
      "execution_count": 0,
      "outputs": [
        {
          "output_type": "stream",
          "text": [
            "[2.0, 'r']\n",
            "[2.23606797749979, 'r']\n",
            "[3.1622776601683795, 'r']\n"
          ],
          "name": "stdout"
        }
      ]
    },
    {
      "cell_type": "code",
      "metadata": {
        "id": "4cqSvaCtdCcB",
        "colab_type": "code",
        "outputId": "b9632297-a085-44ba-e252-8e6bcef9f000",
        "colab": {
          "base_uri": "https://localhost:8080/",
          "height": 218
        }
      },
      "source": [
        "t"
      ],
      "execution_count": 0,
      "outputs": [
        {
          "output_type": "execute_result",
          "data": {
            "text/plain": [
              "[2.0,\n",
              " 'r',\n",
              " 2.23606797749979,\n",
              " 'r',\n",
              " 3.1622776601683795,\n",
              " 'r',\n",
              " 2.0,\n",
              " 'r',\n",
              " 2.23606797749979,\n",
              " 'r',\n",
              " 3.1622776601683795,\n",
              " 'r']"
            ]
          },
          "metadata": {
            "tags": []
          },
          "execution_count": 63
        }
      ]
    }
  ]
}